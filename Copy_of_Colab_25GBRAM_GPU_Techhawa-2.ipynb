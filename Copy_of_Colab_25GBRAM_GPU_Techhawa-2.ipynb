{
  "nbformat": 4,
  "nbformat_minor": 0,
  "metadata": {
    "colab": {
      "name": "Copy of Colab_25GBRAM_GPU Techhawa.ipynb",
      "provenance": [],
      "collapsed_sections": [
        "ds5v4V4Ybuci",
        "pl90HHbGb0qY",
        "u4sBzCrJLq3h",
        "0oQdCgaifCZZ",
        "S1H8djxzfHEx",
        "zH2keUbGfbat",
        "gBJ7an6SgraP",
        "i1iILlN6KVPr"
      ],
      "toc_visible": true,
      "machine_shape": "hm"
    },
    "kernelspec": {
      "name": "python3",
      "display_name": "Python 3"
    }
  },
  "cells": [
    {
      "cell_type": "markdown",
      "metadata": {
        "id": "YndQ114lrxRP",
        "colab_type": "text"
      },
      "source": [
        "##Importing Libraries"
      ]
    },
    {
      "cell_type": "code",
      "metadata": {
        "id": "4FSqzS9xr3E1",
        "colab_type": "code",
        "colab": {}
      },
      "source": [
        "import numpy as np\n",
        "import matplotlib.pyplot as plt\n",
        "import pandas as pd\n",
        "import tensorflow as tf"
      ],
      "execution_count": 1,
      "outputs": []
    },
    {
      "cell_type": "markdown",
      "metadata": {
        "id": "2z4Dt0oCr5j9",
        "colab_type": "text"
      },
      "source": [
        "##Importing Dataset"
      ]
    },
    {
      "cell_type": "code",
      "metadata": {
        "id": "ZVt-JJ008O39",
        "colab_type": "code",
        "colab": {}
      },
      "source": [
        "dataset = pd.read_csv('train.txt', delimiter = '\\t', quoting = 3)"
      ],
      "execution_count": 2,
      "outputs": []
    },
    {
      "cell_type": "code",
      "metadata": {
        "id": "pDQi_S0sW0jj",
        "colab_type": "code",
        "colab": {
          "base_uri": "https://localhost:8080/",
          "height": 51
        },
        "outputId": "bdfa6ec7-5369-4878-f4fb-4bb6d3491ebf"
      },
      "source": [
        "print(len(dataset[dataset.label == 0]), 'Non-Hatred Tweets')\n",
        "print(len(dataset[dataset.label == 1]), 'Hatred Tweets')"
      ],
      "execution_count": null,
      "outputs": [
        {
          "output_type": "stream",
          "text": [
            "29720 Non-Hatred Tweets\n",
            "2242 Hatred Tweets\n"
          ],
          "name": "stdout"
        }
      ]
    },
    {
      "cell_type": "markdown",
      "metadata": {
        "id": "wOHV1S1Gr9I5",
        "colab_type": "text"
      },
      "source": [
        "##Cleaning the Text"
      ]
    },
    {
      "cell_type": "code",
      "metadata": {
        "id": "lQz83nGc8PG7",
        "colab_type": "code",
        "colab": {
          "base_uri": "https://localhost:8080/",
          "height": 51
        },
        "outputId": "8c10e8b0-f158-4f0b-ebb0-bae37f09e960"
      },
      "source": [
        "import re\n",
        "import nltk\n",
        "nltk.download('stopwords')\n",
        "from nltk.corpus import stopwords\n",
        "from nltk.stem.porter import PorterStemmer\n",
        "corpus = []\n",
        "for i in range(0, 31962):\n",
        "  review = re.sub('[^a-zA-Z]', ' ', dataset['tweet'][i])\n",
        "  review = re.sub(r'\\d+', '', review)\n",
        "  review = review.lower()\n",
        "  review = review.split()\n",
        "  all_stopwords = stopwords.words('english')\n",
        "  all_stopwords.remove('not')\n",
        "  ps = PorterStemmer()\n",
        "  review = [ps.stem(word) for word in review if not word in set(all_stopwords)]\n",
        "  review = [ps.stem(word) for word in review if not word.startswith('user')]\n",
        "  review = ' '.join(review)\n",
        "  corpus.append(review)"
      ],
      "execution_count": 3,
      "outputs": [
        {
          "output_type": "stream",
          "text": [
            "[nltk_data] Downloading package stopwords to /root/nltk_data...\n",
            "[nltk_data]   Unzipping corpora/stopwords.zip.\n"
          ],
          "name": "stdout"
        }
      ]
    },
    {
      "cell_type": "code",
      "metadata": {
        "id": "nfxJdhmLXod7",
        "colab_type": "code",
        "colab": {}
      },
      "source": [
        "all_words = \" \".join(corpus)"
      ],
      "execution_count": null,
      "outputs": []
    },
    {
      "cell_type": "code",
      "metadata": {
        "id": "b_L7GFnBY7Xx",
        "colab_type": "code",
        "colab": {}
      },
      "source": [
        "dataset['CORPUS_TWEETS'] = corpus"
      ],
      "execution_count": null,
      "outputs": []
    },
    {
      "cell_type": "code",
      "metadata": {
        "id": "bpUFfTEWXvS_",
        "colab_type": "code",
        "colab": {}
      },
      "source": [
        "hatred_words = \" \".join(dataset[dataset['label']==1].CORPUS_TWEETS)"
      ],
      "execution_count": null,
      "outputs": []
    },
    {
      "cell_type": "code",
      "metadata": {
        "id": "bH-ySI8kcYDO",
        "colab_type": "code",
        "colab": {}
      },
      "source": [
        "from wordcloud import WordCloud, STOPWORDS "
      ],
      "execution_count": null,
      "outputs": []
    },
    {
      "cell_type": "code",
      "metadata": {
        "id": "9mHIdUmndWI1",
        "colab_type": "code",
        "colab": {}
      },
      "source": [
        "corpus"
      ],
      "execution_count": null,
      "outputs": []
    },
    {
      "cell_type": "markdown",
      "metadata": {
        "id": "ds5v4V4Ybuci",
        "colab_type": "text"
      },
      "source": [
        "##Wordcloud of Most Frequent Words in the dataset"
      ]
    },
    {
      "cell_type": "code",
      "metadata": {
        "id": "hHZm2r40boZB",
        "colab_type": "code",
        "colab": {
          "base_uri": "https://localhost:8080/",
          "height": 248
        },
        "outputId": "500b57bd-87e8-49a6-b824-aa2fcce3bf5a"
      },
      "source": [
        "wordcloud = WordCloud(height=2000, width=2000, stopwords=STOPWORDS, background_color='darkslategrey')\n",
        "wordcloud = wordcloud.generate(all_words)\n",
        "plt.imshow(wordcloud)\n",
        "plt.axis('off')\n",
        "plt.show()"
      ],
      "execution_count": null,
      "outputs": [
        {
          "output_type": "display_data",
          "data": {
            "image/png": "[encoded data removed]",
            "text/plain": [
              "<Figure size 432x288 with 1 Axes>"
            ]
          },
          "metadata": {
            "tags": [],
            "needs_background": "light"
          }
        }
      ]
    },
    {
      "cell_type": "markdown",
      "metadata": {
        "id": "pl90HHbGb0qY",
        "colab_type": "text"
      },
      "source": [
        "##Wordcloud of Most Frequent Words in Hate Speech dataset"
      ]
    },
    {
      "cell_type": "code",
      "metadata": {
        "id": "p0EAwLyDbqr5",
        "colab_type": "code",
        "colab": {
          "base_uri": "https://localhost:8080/",
          "height": 248
        },
        "outputId": "a60bb115-9a07-485f-e277-adf632d9973d"
      },
      "source": [
        "wordcloud = WordCloud(height=2000, width=2000, stopwords=STOPWORDS, background_color='darkslategrey')\n",
        "wordcloud = wordcloud.generate(hatred_words)\n",
        "plt.imshow(wordcloud)\n",
        "plt.axis('off')\n",
        "plt.show()"
      ],
      "execution_count": null,
      "outputs": [
        {
          "output_type": "display_data",
          "data": {
            "image/png": "[encoded data removed]",
            "text/plain": [
              "<Figure size 432x288 with 1 Axes>"
            ]
          },
          "metadata": {
            "tags": [],
            "needs_background": "light"
          }
        }
      ]
    },
    {
      "cell_type": "code",
      "metadata": {
        "id": "mBmX3k2O40_H",
        "colab_type": "code",
        "colab": {}
      },
      "source": [
        "print(corpus)"
      ],
      "execution_count": null,
      "outputs": []
    },
    {
      "cell_type": "markdown",
      "metadata": {
        "id": "jU6bJMfkrlwD",
        "colab_type": "text"
      },
      "source": [
        "##Feature Extraction and Training Set Split"
      ]
    },
    {
      "cell_type": "code",
      "metadata": {
        "id": "P09jTqno8PMd",
        "colab_type": "code",
        "colab": {}
      },
      "source": [
        "from sklearn.feature_extraction.text import CountVectorizer\n",
        "cv = CountVectorizer(max_features = 31000)\n",
        "X = cv.fit_transform(corpus).toarray()\n",
        "y = dataset.iloc[:, 1].values"
      ],
      "execution_count": 4,
      "outputs": []
    },
    {
      "cell_type": "code",
      "metadata": {
        "id": "ib1wxvZ44gpb",
        "colab_type": "code",
        "colab": {
          "base_uri": "https://localhost:8080/",
          "height": 34
        },
        "outputId": "a19070fe-f631-4482-bd03-8bc05cf0fcb7"
      },
      "source": [
        "len(X[0])"
      ],
      "execution_count": 5,
      "outputs": [
        {
          "output_type": "execute_result",
          "data": {
            "text/plain": [
              "31000"
            ]
          },
          "metadata": {
            "tags": []
          },
          "execution_count": 5
        }
      ]
    },
    {
      "cell_type": "code",
      "metadata": {
        "id": "eNCNUfaM8PSH",
        "colab_type": "code",
        "colab": {}
      },
      "source": [
        "from sklearn.model_selection import train_test_split\n",
        "X_train, X_test, y_train, y_test = train_test_split(X, y, test_size = 0.2, random_state = 0)"
      ],
      "execution_count": 5,
      "outputs": []
    },
    {
      "cell_type": "markdown",
      "metadata": {
        "id": "u4sBzCrJLq3h",
        "colab_type": "text"
      },
      "source": [
        "##Logistic Regression Classifier"
      ]
    },
    {
      "cell_type": "code",
      "metadata": {
        "id": "mtqPz9NXLvH7",
        "colab_type": "code",
        "colab": {
          "base_uri": "https://localhost:8080/",
          "height": 102
        },
        "outputId": "007d329b-33eb-42ab-b44d-3ca04628a5cd"
      },
      "source": [
        "from sklearn.linear_model import LogisticRegression\n",
        "classifier = LogisticRegression(C = 10, max_iter=300)\n",
        "classifier.fit(X_train, y_train)"
      ],
      "execution_count": null,
      "outputs": [
        {
          "output_type": "execute_result",
          "data": {
            "text/plain": [
              "LogisticRegression(C=10, class_weight=None, dual=False, fit_intercept=True,\n",
              "                   intercept_scaling=1, l1_ratio=None, max_iter=300,\n",
              "                   multi_class='auto', n_jobs=None, penalty='l2',\n",
              "                   random_state=None, solver='lbfgs', tol=0.0001, verbose=0,\n",
              "                   warm_start=False)"
            ]
          },
          "metadata": {
            "tags": []
          },
          "execution_count": 6
        }
      ]
    },
    {
      "cell_type": "markdown",
      "metadata": {
        "id": "0oQdCgaifCZZ",
        "colab_type": "text"
      },
      "source": [
        "##Decision Tree Classifier"
      ]
    },
    {
      "cell_type": "code",
      "metadata": {
        "id": "jVicdZR88V6D",
        "colab_type": "code",
        "colab": {
          "base_uri": "https://localhost:8080/",
          "height": 119
        },
        "outputId": "f4b60b30-bf40-4287-8782-f3e79a9ac056"
      },
      "source": [
        "from sklearn.tree import DecisionTreeClassifier\n",
        "classifier = DecisionTreeClassifier(criterion = 'entropy', random_state = 0)\n",
        "classifier.fit(X_train, y_train)"
      ],
      "execution_count": null,
      "outputs": [
        {
          "output_type": "execute_result",
          "data": {
            "text/plain": [
              "DecisionTreeClassifier(ccp_alpha=0.0, class_weight=None, criterion='entropy',\n",
              "                       max_depth=None, max_features=None, max_leaf_nodes=None,\n",
              "                       min_impurity_decrease=0.0, min_impurity_split=None,\n",
              "                       min_samples_leaf=1, min_samples_split=2,\n",
              "                       min_weight_fraction_leaf=0.0, presort='deprecated',\n",
              "                       random_state=0, splitter='best')"
            ]
          },
          "metadata": {
            "tags": []
          },
          "execution_count": 6
        }
      ]
    },
    {
      "cell_type": "markdown",
      "metadata": {
        "id": "S1H8djxzfHEx",
        "colab_type": "text"
      },
      "source": [
        "##Naive Bayes Classifier"
      ]
    },
    {
      "cell_type": "code",
      "metadata": {
        "id": "eKk8J6O3dw83",
        "colab_type": "code",
        "colab": {
          "base_uri": "https://localhost:8080/",
          "height": 34
        },
        "outputId": "fd52cc27-34f8-4330-db0e-f442a99a9b9a"
      },
      "source": [
        "from sklearn.naive_bayes import MultinomialNB\n",
        "classifier = MultinomialNB()\n",
        "classifier.fit(X_train, y_train)"
      ],
      "execution_count": null,
      "outputs": [
        {
          "output_type": "execute_result",
          "data": {
            "text/plain": [
              "MultinomialNB(alpha=1.0, class_prior=None, fit_prior=True)"
            ]
          },
          "metadata": {
            "tags": []
          },
          "execution_count": 6
        }
      ]
    },
    {
      "cell_type": "markdown",
      "metadata": {
        "id": "zH2keUbGfbat",
        "colab_type": "text"
      },
      "source": [
        "##Kernel SVM classifier"
      ]
    },
    {
      "cell_type": "code",
      "metadata": {
        "id": "cT0JdgIAfY_I",
        "colab_type": "code",
        "colab": {}
      },
      "source": [
        "from sklearn.svm import SVC\n",
        "classifier = SVC(kernel = 'linear', random_state = 0)\n",
        "classifier.fit(X_train, y_train)"
      ],
      "execution_count": null,
      "outputs": []
    },
    {
      "cell_type": "markdown",
      "metadata": {
        "id": "gBJ7an6SgraP",
        "colab_type": "text"
      },
      "source": [
        "##Random Forest Classifier"
      ]
    },
    {
      "cell_type": "code",
      "metadata": {
        "id": "e6ne_3gQguAt",
        "colab_type": "code",
        "colab": {
          "base_uri": "https://localhost:8080/",
          "height": 153
        },
        "outputId": "ebb160fc-2ce4-4a29-ffe5-92db11ee57d8"
      },
      "source": [
        "from sklearn.ensemble import RandomForestClassifier\n",
        "classifier = RandomForestClassifier(n_estimators = 10, criterion = 'entropy', random_state = 0)\n",
        "classifier.fit(X_train, y_train)"
      ],
      "execution_count": null,
      "outputs": [
        {
          "output_type": "execute_result",
          "data": {
            "text/plain": [
              "RandomForestClassifier(bootstrap=True, ccp_alpha=0.0, class_weight=None,\n",
              "                       criterion='entropy', max_depth=None, max_features='auto',\n",
              "                       max_leaf_nodes=None, max_samples=None,\n",
              "                       min_impurity_decrease=0.0, min_impurity_split=None,\n",
              "                       min_samples_leaf=1, min_samples_split=2,\n",
              "                       min_weight_fraction_leaf=0.0, n_estimators=10,\n",
              "                       n_jobs=None, oob_score=False, random_state=0, verbose=0,\n",
              "                       warm_start=False)"
            ]
          },
          "metadata": {
            "tags": []
          },
          "execution_count": 6
        }
      ]
    },
    {
      "cell_type": "markdown",
      "metadata": {
        "id": "2Ec7VUwNuVHa",
        "colab_type": "text"
      },
      "source": [
        "##ANN Classifier\n"
      ]
    },
    {
      "cell_type": "markdown",
      "metadata": {
        "id": "n-CyfkUZugAU",
        "colab_type": "text"
      },
      "source": [
        "###Building The ANN"
      ]
    },
    {
      "cell_type": "code",
      "metadata": {
        "id": "WxxZhjBCuZB-",
        "colab_type": "code",
        "colab": {
          "base_uri": "https://localhost:8080/",
          "height": 34
        },
        "outputId": "7ac4d616-b7f6-4f86-b7c1-4d67b756fe64"
      },
      "source": [
        "from keras.layers import LeakyReLU\n",
        "ann = tf.keras.models.Sequential()"
      ],
      "execution_count": 6,
      "outputs": [
        {
          "output_type": "stream",
          "text": [
            "Using TensorFlow backend.\n"
          ],
          "name": "stderr"
        }
      ]
    },
    {
      "cell_type": "markdown",
      "metadata": {
        "id": "EdIMlFLBuro_",
        "colab_type": "text"
      },
      "source": [
        "###Adding Input Layer and first hidden layer"
      ]
    },
    {
      "cell_type": "code",
      "metadata": {
        "id": "ZAWrxZ4ZuyWM",
        "colab_type": "code",
        "colab": {}
      },
      "source": [
        "from tensorflow.keras import regularizers\n",
        "\n",
        "#ann.add(tf.keras.layers.Dense(units=128, activation='relu', kernel_regularizer=regularizers.l2(0.001)))\n",
        "ann.add(tf.keras.layers.Dense(units=128, activation='relu'))\n",
        "#ann.add(tf.keras.layers.Dropout(0.3))\n",
        "#ann.add(tf.keras.layers.Dropout(0.3))\n",
        "#ann.add(tf.keras.layers.LeakyReLU(alpha=0.05))"
      ],
      "execution_count": 7,
      "outputs": []
    },
    {
      "cell_type": "markdown",
      "metadata": {
        "id": "80sbeDU2u1ks",
        "colab_type": "text"
      },
      "source": [
        "###Adding the second hidden layer"
      ]
    },
    {
      "cell_type": "code",
      "metadata": {
        "id": "mrR1BhmbynM5",
        "colab_type": "code",
        "colab": {}
      },
      "source": [
        "ann.add(tf.keras.layers.Dense(units=128, activation='relu'))\n",
        "#ann.add(tf.keras.layers.Dense(units=64, activation='relu', kernel_regularizer=regularizers.l2(0.001)))\n",
        "#ann.add(tf.keras.layers.Dropout(0.3))\n",
        "#ann.add(tf.keras.layers.LeakyReLU(alpha=0.05))"
      ],
      "execution_count": 8,
      "outputs": []
    },
    {
      "cell_type": "markdown",
      "metadata": {
        "id": "RKlA2jrYysLt",
        "colab_type": "text"
      },
      "source": [
        "###Adding Output Layer"
      ]
    },
    {
      "cell_type": "code",
      "metadata": {
        "id": "uz6z_aYEyujq",
        "colab_type": "code",
        "colab": {}
      },
      "source": [
        "ann.add(tf.keras.layers.Dense(units=1, activation='sigmoid'))"
      ],
      "execution_count": 9,
      "outputs": []
    },
    {
      "cell_type": "markdown",
      "metadata": {
        "id": "PsEgarw_yyYY",
        "colab_type": "text"
      },
      "source": [
        "###Compiling the ANN"
      ]
    },
    {
      "cell_type": "code",
      "metadata": {
        "id": "V_-jQsaAy1q_",
        "colab_type": "code",
        "colab": {}
      },
      "source": [
        "ann.compile(optimizer = 'adam', loss = 'binary_crossentropy', metrics = [tf.keras.metrics.TruePositives()])"
      ],
      "execution_count": 10,
      "outputs": []
    },
    {
      "cell_type": "markdown",
      "metadata": {
        "id": "bxu-vYHly6NU",
        "colab_type": "text"
      },
      "source": [
        "###Training the ANN"
      ]
    },
    {
      "cell_type": "code",
      "metadata": {
        "id": "KfnNp-tQy7sC",
        "colab_type": "code",
        "colab": {
          "base_uri": "https://localhost:8080/",
          "height": 374
        },
        "outputId": "5983ccef-d481-4526-f50d-fed0dbcf8703"
      },
      "source": [
        "ann.fit(X_train, y_train, batch_size = 1, epochs = 10)"
      ],
      "execution_count": 11,
      "outputs": [
        {
          "output_type": "stream",
          "text": [
            "Epoch 1/10\n",
            "25569/25569 [==============================] - 279s 11ms/step - loss: 0.1554 - true_positives: 764.0000\n",
            "Epoch 2/10\n",
            "25569/25569 [==============================] - 279s 11ms/step - loss: 0.0769 - true_positives: 1395.0000\n",
            "Epoch 3/10\n",
            "25569/25569 [==============================] - 278s 11ms/step - loss: 0.0404 - true_positives: 1625.0000\n",
            "Epoch 4/10\n",
            "25569/25569 [==============================] - 278s 11ms/step - loss: 0.0214 - true_positives: 1732.0000\n",
            "Epoch 5/10\n",
            "25569/25569 [==============================] - 279s 11ms/step - loss: 0.0128 - true_positives: 1776.0000\n",
            "Epoch 6/10\n",
            "25569/25569 [==============================] - 278s 11ms/step - loss: 0.0088 - true_positives: 1790.0000\n",
            "Epoch 7/10\n",
            "25569/25569 [==============================] - 278s 11ms/step - loss: 0.0087 - true_positives: 1801.0000\n",
            "Epoch 8/10\n",
            "25569/25569 [==============================] - 278s 11ms/step - loss: 0.0070 - true_positives: 1807.0000\n",
            "Epoch 9/10\n",
            "25569/25569 [==============================] - 278s 11ms/step - loss: 0.0050 - true_positives: 1811.0000\n",
            "Epoch 10/10\n",
            "25569/25569 [==============================] - 277s 11ms/step - loss: 0.0033 - true_positives: 1819.0000\n"
          ],
          "name": "stdout"
        },
        {
          "output_type": "execute_result",
          "data": {
            "text/plain": [
              "<tensorflow.python.keras.callbacks.History at 0x7fe5ff9981d0>"
            ]
          },
          "metadata": {
            "tags": []
          },
          "execution_count": 11
        }
      ]
    },
    {
      "cell_type": "markdown",
      "metadata": {
        "id": "OrrmBwIm_Rto",
        "colab_type": "text"
      },
      "source": [
        "##Prediction Matrix"
      ]
    },
    {
      "cell_type": "code",
      "metadata": {
        "id": "2D1nmmYJ8PW6",
        "colab_type": "code",
        "colab": {
          "base_uri": "https://localhost:8080/",
          "height": 136
        },
        "outputId": "74b68226-d313-4950-ae57-e3d783bbf6cf"
      },
      "source": [
        "y_pred = ann.predict(X_test)\n",
        "y_pred = (y_pred > 0.5)\n",
        "#y_prob = classifier.predict_proba(X_test)\n",
        "print(np.concatenate((y_pred.reshape(len(y_pred),1), y_test.reshape(len(y_test),1)),1))"
      ],
      "execution_count": 12,
      "outputs": [
        {
          "output_type": "stream",
          "text": [
            "[[0 0]\n",
            " [0 0]\n",
            " [0 0]\n",
            " ...\n",
            " [0 0]\n",
            " [0 1]\n",
            " [0 0]]\n"
          ],
          "name": "stdout"
        }
      ]
    },
    {
      "cell_type": "markdown",
      "metadata": {
        "id": "i1iILlN6KVPr",
        "colab_type": "text"
      },
      "source": [
        "##Adjusting Inverse of Regularisation Strength for Logistic Regression"
      ]
    },
    {
      "cell_type": "code",
      "metadata": {
        "id": "ukf_oz0nKdoe",
        "colab_type": "code",
        "colab": {}
      },
      "source": [
        "from sklearn.metrics import f1_score\n",
        "threshold = np.arange(0.1,0.9,0.1)\n",
        "score = [f1_score(y_test, ((y_prob[:,1] >= x).astype(int))) for x in threshold]"
      ],
      "execution_count": null,
      "outputs": []
    },
    {
      "cell_type": "code",
      "metadata": {
        "id": "ENQZA0KhMqRq",
        "colab_type": "code",
        "colab": {
          "base_uri": "https://localhost:8080/",
          "height": 279
        },
        "outputId": "ae6fe0bb-2bdd-4562-b4ca-373d0f025c50"
      },
      "source": [
        "plt.plot(threshold, score)\n",
        "plt.xlabel('Threshold Probability')\n",
        "plt.ylabel('F1 score')\n",
        "plt.show()"
      ],
      "execution_count": null,
      "outputs": [
        {
          "output_type": "display_data",
          "data": {
            "image/png": "[encoded data removed]",
            "text/plain": [
              "<Figure size 432x288 with 1 Axes>"
            ]
          },
          "metadata": {
            "tags": [],
            "needs_background": "light"
          }
        }
      ]
    },
    {
      "cell_type": "markdown",
      "metadata": {
        "id": "Z0BL_PG0_bHV",
        "colab_type": "text"
      },
      "source": [
        "##Accuracy, F1 Score, Avg precision Score, Precision Score, Matthew's Correlation Coefficient "
      ]
    },
    {
      "cell_type": "code",
      "metadata": {
        "id": "MkY8WMNY8PeR",
        "colab_type": "code",
        "colab": {
          "base_uri": "https://localhost:8080/",
          "height": 68
        },
        "outputId": "4bede30c-73a0-4eac-fc24-93216bc64cd0"
      },
      "source": [
        "from sklearn.metrics import confusion_matrix, accuracy_score\n",
        "cm = confusion_matrix(y_test, y_pred)\n",
        "print(cm)\n",
        "accuracy_score(y_test, y_pred)"
      ],
      "execution_count": 13,
      "outputs": [
        {
          "output_type": "stream",
          "text": [
            "[[5936   49]\n",
            " [ 179  229]]\n"
          ],
          "name": "stdout"
        },
        {
          "output_type": "execute_result",
          "data": {
            "text/plain": [
              "0.9643359924917879"
            ]
          },
          "metadata": {
            "tags": []
          },
          "execution_count": 13
        }
      ]
    },
    {
      "cell_type": "code",
      "metadata": {
        "id": "8zSCrtHRDhzW",
        "colab_type": "code",
        "colab": {
          "base_uri": "https://localhost:8080/",
          "height": 34
        },
        "outputId": "c11c1e21-820a-4d85-f2b9-8f03395a3208"
      },
      "source": [
        "from sklearn.metrics import f1_score\n",
        "f1S = f1_score(y_test, y_pred, average='binary')\n",
        "print('f1score : ', f1S)"
      ],
      "execution_count": 20,
      "outputs": [
        {
          "output_type": "stream",
          "text": [
            "f1score :  0.6676384839650146\n"
          ],
          "name": "stdout"
        }
      ]
    },
    {
      "cell_type": "code",
      "metadata": {
        "id": "lJrQW55yEIm4",
        "colab_type": "code",
        "colab": {
          "base_uri": "https://localhost:8080/",
          "height": 34
        },
        "outputId": "190aeba3-6aa2-4584-d6a2-756bc82803ba"
      },
      "source": [
        "from sklearn.metrics import average_precision_score\n",
        "apS = average_precision_score(y_test, y_pred)\n",
        "print('Average Precision Score : ', apS)"
      ],
      "execution_count": 21,
      "outputs": [
        {
          "output_type": "stream",
          "text": [
            "Average Precision Score :  0.490344204333996\n"
          ],
          "name": "stdout"
        }
      ]
    },
    {
      "cell_type": "code",
      "metadata": {
        "id": "tp_5ZuNUEau7",
        "colab_type": "code",
        "colab": {
          "base_uri": "https://localhost:8080/",
          "height": 34
        },
        "outputId": "67306da5-18ed-4e93-f112-c4315d57cee4"
      },
      "source": [
        "from sklearn.metrics import precision_score\n",
        "PSs = precision_score(y_test, y_pred, average='binary')\n",
        "print('Precision Score : ',PSs)"
      ],
      "execution_count": 22,
      "outputs": [
        {
          "output_type": "stream",
          "text": [
            "Precision Score :  0.8237410071942446\n"
          ],
          "name": "stdout"
        }
      ]
    },
    {
      "cell_type": "code",
      "metadata": {
        "id": "DJp7GOk9fyR1",
        "colab_type": "code",
        "colab": {
          "base_uri": "https://localhost:8080/",
          "height": 34
        },
        "outputId": "6b91c48a-f05a-4654-a3d8-2370c4d8bd39"
      },
      "source": [
        "from sklearn.metrics import recall_score\n",
        "Rs = recall_score(y_test, y_pred, average='binary')\n",
        "print('Recall Score : ',Rs)"
      ],
      "execution_count": 23,
      "outputs": [
        {
          "output_type": "stream",
          "text": [
            "Recall Score :  0.5612745098039216\n"
          ],
          "name": "stdout"
        }
      ]
    },
    {
      "cell_type": "code",
      "metadata": {
        "id": "TLz-8cwviD8A",
        "colab_type": "code",
        "colab": {
          "base_uri": "https://localhost:8080/",
          "height": 34
        },
        "outputId": "13a4e95c-27f3-46cd-9378-ae95fcbcea9c"
      },
      "source": [
        "from sklearn.metrics import matthews_corrcoef\n",
        "MCC = matthews_corrcoef(y_test, y_pred)\n",
        "print('Matthews Correlation Coefficient : ',MCC)"
      ],
      "execution_count": 24,
      "outputs": [
        {
          "output_type": "stream",
          "text": [
            "Matthews Correlation Coefficient :  0.6628805491014934\n"
          ],
          "name": "stdout"
        }
      ]
    },
    {
      "cell_type": "code",
      "metadata": {
        "id": "D6uqhE2vkFvz",
        "colab_type": "code",
        "colab": {
          "base_uri": "https://localhost:8080/",
          "height": 170
        },
        "outputId": "9616bb95-2a7a-4fff-9d63-5c8a3f59321f"
      },
      "source": [
        "from sklearn.metrics import classification_report\n",
        "print(classification_report(y_test, y_pred))"
      ],
      "execution_count": 25,
      "outputs": [
        {
          "output_type": "stream",
          "text": [
            "              precision    recall  f1-score   support\n",
            "\n",
            "           0       0.97      0.99      0.98      5985\n",
            "           1       0.82      0.56      0.67       408\n",
            "\n",
            "    accuracy                           0.96      6393\n",
            "   macro avg       0.90      0.78      0.82      6393\n",
            "weighted avg       0.96      0.96      0.96      6393\n",
            "\n"
          ],
          "name": "stdout"
        }
      ]
    }
  ]
}